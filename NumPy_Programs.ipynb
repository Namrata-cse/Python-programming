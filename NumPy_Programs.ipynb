{
 "cells": [
  {
   "cell_type": "code",
   "execution_count": 1,
   "id": "e06984f7",
   "metadata": {},
   "outputs": [],
   "source": [
    "import numpy as np"
   ]
  },
  {
   "cell_type": "code",
   "execution_count": 4,
   "id": "bec90eab",
   "metadata": {},
   "outputs": [
    {
     "name": "stdout",
     "output_type": "stream",
     "text": [
      "\n",
      " Matrix a: \n",
      " [[100670957509796               0 125462100637456]\n",
      " [125462100637536 125462100637616 125462100637696]\n",
      " [125462100637776 125462100637856              80]]\n"
     ]
    }
   ],
   "source": [
    "#Create Array using numpy.empty(shape, dtype=float, order=’C’)\n",
    "\n",
    "a=np.empty([3,3],dtype=int)\n",
    "print(\"\\n Matrix a: \\n\",a)\n",
    "\n"
   ]
  },
  {
   "cell_type": "code",
   "execution_count": 5,
   "id": "985f7ed7",
   "metadata": {},
   "outputs": [
    {
     "name": "stdout",
     "output_type": "stream",
     "text": [
      "\n",
      " Matrix b: \n",
      " [24573315813           0         112]\n"
     ]
    }
   ],
   "source": [
    "b=np.empty(3,dtype=int)\n",
    "print(\"\\n Matrix b: \\n\",b)"
   ]
  },
  {
   "cell_type": "code",
   "execution_count": 6,
   "id": "2258a885",
   "metadata": {},
   "outputs": [
    {
     "name": "stdout",
     "output_type": "stream",
     "text": [
      "\n",
      " Matrix a:\n",
      " [[0 0 0]\n",
      " [0 0 0]\n",
      " [0 0 0]]\n"
     ]
    }
   ],
   "source": [
    "#Create Array using numpy.empty(shape, dtype=None, order=’C’)\n",
    "\n",
    "c=np.zeros([3,3],dtype=int)\n",
    "print(\"\\n Matrix c:\\n\",c)\n"
   ]
  },
  {
   "cell_type": "code",
   "execution_count": 7,
   "id": "f10c836c",
   "metadata": {},
   "outputs": [
    {
     "name": "stdout",
     "output_type": "stream",
     "text": [
      "\n",
      " Matrix a:\n",
      " [[0 0 0]\n",
      " [0 0 0]]\n"
     ]
    }
   ],
   "source": [
    "d=np.zeros([2,3],dtype=int)\n",
    "print(\"\\n Matrix d:\\n\",d)"
   ]
  },
  {
   "cell_type": "code",
   "execution_count": 8,
   "id": "a4d4a6fc",
   "metadata": {},
   "outputs": [
    {
     "name": "stdout",
     "output_type": "stream",
     "text": [
      "\n",
      " Matrix e:\n",
      " [0 0 0]\n"
     ]
    }
   ],
   "source": [
    "e=np.zeros(3,dtype=int)\n",
    "print(\"\\n Matrix e:\\n\",e)"
   ]
  },
  {
   "cell_type": "markdown",
   "id": "1756c1ed",
   "metadata": {},
   "source": [
    "# Operations on NumPy Arrays"
   ]
  },
  {
   "cell_type": "markdown",
   "id": "9358bfab",
   "metadata": {},
   "source": [
    "## Arithmetic Operations"
   ]
  },
  {
   "cell_type": "code",
   "execution_count": 13,
   "id": "cd8b2d02",
   "metadata": {},
   "outputs": [
    {
     "name": "stdout",
     "output_type": "stream",
     "text": [
      "[2 4 6 8]\n"
     ]
    }
   ],
   "source": [
    "Tohru=np.array([1,2,3,4])\n",
    "\n",
    "Honda=np.array([1,2,3,4])\n",
    "\n",
    "Add1=Tohru+Honda\n",
    "print(Add1)"
   ]
  },
  {
   "cell_type": "code",
   "execution_count": 14,
   "id": "cdf41447",
   "metadata": {},
   "outputs": [
    {
     "name": "stdout",
     "output_type": "stream",
     "text": [
      "[2 4 6 8]\n"
     ]
    }
   ],
   "source": [
    "Add2=np.add(Tohru, Honda)\n",
    "print(Add2)"
   ]
  },
  {
   "cell_type": "code",
   "execution_count": 17,
   "id": "c6e3504d",
   "metadata": {},
   "outputs": [
    {
     "name": "stdout",
     "output_type": "stream",
     "text": [
      "[ 3  6  9 12]\n"
     ]
    }
   ],
   "source": [
    "Kyo=np.array([1,2,3,4])\n",
    "Add3=Tohru+Honda+Kyo\n",
    "print(Add3)"
   ]
  },
  {
   "cell_type": "code",
   "execution_count": 18,
   "id": "273fbae3",
   "metadata": {},
   "outputs": [
    {
     "name": "stdout",
     "output_type": "stream",
     "text": [
      "[2 4 6 8]\n"
     ]
    }
   ],
   "source": [
    "Add4=np.add(Tohru, Honda, Kyo)\n",
    "print(Add4)"
   ]
  },
  {
   "cell_type": "markdown",
   "id": "46ee368c",
   "metadata": {},
   "source": [
    "## Substraction Operations\n"
   ]
  },
  {
   "cell_type": "code",
   "execution_count": 19,
   "id": "79894dba",
   "metadata": {},
   "outputs": [
    {
     "name": "stdout",
     "output_type": "stream",
     "text": [
      "[5 4 3 2]\n"
     ]
    }
   ],
   "source": [
    "Yoki=np.array([10,8,6,4])\n",
    "Akito=np.array([5,4,3,2])\n",
    "Sub1=Yoki-Akito\n",
    "print(Sub1)"
   ]
  },
  {
   "cell_type": "code",
   "execution_count": 21,
   "id": "65b61156",
   "metadata": {},
   "outputs": [
    {
     "name": "stdout",
     "output_type": "stream",
     "text": [
      "[5 4 3 2]\n"
     ]
    }
   ],
   "source": [
    "Sub2=np.subtract(Yoki, Akito)\n",
    "print(Sub2)"
   ]
  },
  {
   "cell_type": "markdown",
   "id": "48135c7c",
   "metadata": {},
   "source": [
    "## Multiplication Operations"
   ]
  },
  {
   "cell_type": "code",
   "execution_count": 22,
   "id": "0a8a5c7b",
   "metadata": {},
   "outputs": [
    {
     "name": "stdout",
     "output_type": "stream",
     "text": [
      "[ 100  400  900 1600]\n"
     ]
    }
   ],
   "source": [
    "Shigure=np.array([10,20,30,40])\n",
    "Hatori=np.array([10,20,30,40])\n",
    "Mul1=Shigure*Hatori\n",
    "print(Mul1)"
   ]
  },
  {
   "cell_type": "code",
   "execution_count": 24,
   "id": "0a89661d",
   "metadata": {},
   "outputs": [
    {
     "name": "stdout",
     "output_type": "stream",
     "text": [
      "[ 100  400  900 1600]\n"
     ]
    }
   ],
   "source": [
    "Mul2=np.multiply(Hatori,Shigure)\n",
    "print(Mul2)"
   ]
  },
  {
   "cell_type": "markdown",
   "id": "3521f0f9",
   "metadata": {},
   "source": [
    "## Division Operations"
   ]
  },
  {
   "cell_type": "code",
   "execution_count": 26,
   "id": "3d36dfcb",
   "metadata": {},
   "outputs": [
    {
     "name": "stdout",
     "output_type": "stream",
     "text": [
      "[20.         33.33333333 42.85714286 50.        ]\n"
     ]
    }
   ],
   "source": [
    "Saki=np.array([100,200,300,400])\n",
    "Juki=np.array([5,6,7,8])\n",
    "Div1=Saki/Juki\n",
    "print(Div1)"
   ]
  },
  {
   "cell_type": "code",
   "execution_count": 27,
   "id": "3e248dcd",
   "metadata": {},
   "outputs": [
    {
     "name": "stdout",
     "output_type": "stream",
     "text": [
      "[20.         33.33333333 42.85714286 50.        ]\n"
     ]
    }
   ],
   "source": [
    "Div2=np.divide(Saki, Juki)\n",
    "print(Div2)"
   ]
  },
  {
   "cell_type": "markdown",
   "id": "9ec0e067",
   "metadata": {},
   "source": [
    "# Array Indexing"
   ]
  },
  {
   "cell_type": "code",
   "execution_count": 30,
   "id": "d427f1ec",
   "metadata": {},
   "outputs": [
    {
     "name": "stdout",
     "output_type": "stream",
     "text": [
      "\n",
      " A sequential array with a negative step: \n",
      " [10  8  6  4  2]\n",
      "\n",
      " Elements at the indices are: \n",
      " [4 8 6]\n"
     ]
    }
   ],
   "source": [
    "a=np.arange(10,1,-2)\n",
    "print(\"\\n A sequential array with a negative step: \\n\",a)\n",
    "\n",
    "b=a[np.array([3,1,2])]\n",
    "print(\"\\n Elements at the indices are: \\n\",b)"
   ]
  },
  {
   "cell_type": "markdown",
   "id": "a69e5c37",
   "metadata": {},
   "source": [
    "# Array Slicing"
   ]
  },
  {
   "cell_type": "code",
   "execution_count": 31,
   "id": "8ead714e",
   "metadata": {},
   "outputs": [
    {
     "name": "stdout",
     "output_type": "stream",
     "text": [
      "[2 3 4 5]\n"
     ]
    }
   ],
   "source": [
    "Arr=np.array([1,2,3,4,5,6,7])\n",
    "\n",
    "print(Arr[1:5])"
   ]
  },
  {
   "cell_type": "code",
   "execution_count": 32,
   "id": "490b5460",
   "metadata": {},
   "outputs": [
    {
     "name": "stdout",
     "output_type": "stream",
     "text": [
      "[1 2 3 4]\n"
     ]
    }
   ],
   "source": [
    "print(Arr[:4])"
   ]
  },
  {
   "cell_type": "code",
   "execution_count": 34,
   "id": "08113f0e",
   "metadata": {},
   "outputs": [
    {
     "name": "stdout",
     "output_type": "stream",
     "text": [
      "[5 6]\n"
     ]
    }
   ],
   "source": [
    "#Negative Slicing\n",
    "\n",
    "print(Arr[-3: -1])\n"
   ]
  },
  {
   "cell_type": "code",
   "execution_count": 35,
   "id": "dbbf56ee",
   "metadata": {},
   "outputs": [
    {
     "name": "stdout",
     "output_type": "stream",
     "text": [
      "[2 4]\n"
     ]
    }
   ],
   "source": [
    "# step: using the step value to determine the step of the slicing\n",
    "\n",
    "#Return every other element from index 1 to index 5:\n",
    "\n",
    "print(Arr[1:5:2])"
   ]
  },
  {
   "cell_type": "code",
   "execution_count": 36,
   "id": "3dd481e4",
   "metadata": {},
   "outputs": [
    {
     "name": "stdout",
     "output_type": "stream",
     "text": [
      "[1 3 5 7]\n"
     ]
    }
   ],
   "source": [
    "# return every other element from the entire array:\n",
    "print(Arr[::2])"
   ]
  },
  {
   "cell_type": "code",
   "execution_count": 39,
   "id": "099f1f64",
   "metadata": {},
   "outputs": [
    {
     "name": "stdout",
     "output_type": "stream",
     "text": [
      "[7 8 9]\n"
     ]
    }
   ],
   "source": [
    "#Slicing 2-D arrays\n",
    "\n",
    "#From the second element, slice elements from index 1 to index 4 (not included):\n",
    "Arr2=np.array([[1,2,3,4,5],[6,7,8,9,10]])\n",
    "print(Arr2[1,1:4])"
   ]
  },
  {
   "cell_type": "code",
   "execution_count": 40,
   "id": "0aabd7a1",
   "metadata": {},
   "outputs": [
    {
     "name": "stdout",
     "output_type": "stream",
     "text": [
      "[3 8]\n"
     ]
    }
   ],
   "source": [
    "#From both elements, return index 2:\n",
    "print(Arr2[0:2 ,2])\n"
   ]
  },
  {
   "cell_type": "markdown",
   "id": "08551029",
   "metadata": {},
   "source": [
    "# Array Broadcasting"
   ]
  },
  {
   "cell_type": "code",
   "execution_count": 41,
   "id": "be3cbacc",
   "metadata": {},
   "outputs": [
    {
     "name": "stdout",
     "output_type": "stream",
     "text": [
      "[[  2.4   8.7  31.2]\n",
      " [157.2  70.8 292. ]\n",
      " [165.6  95.1 191.2]\n",
      " [ 43.2  33.   39.2]]\n"
     ]
    }
   ],
   "source": [
    "macros=np.array([[0.8,2.9,3.9],\n",
    "               [52.4,23.6,36.5],\n",
    "               [55.2,31.7,23.9],\n",
    "                 [14.4,11,4.9]\n",
    "                ])\n",
    "calpermacro=np.array([3,3,8])\n",
    "result=macros *calpermacro\n",
    "print(result)"
   ]
  },
  {
   "cell_type": "code",
   "execution_count": 42,
   "id": "30c5e263",
   "metadata": {},
   "outputs": [
    {
     "name": "stdout",
     "output_type": "stream",
     "text": [
      "[2. 4. 6.]\n"
     ]
    }
   ],
   "source": [
    "x=np.array([1.0,2.0,3.0])\n",
    "y=np.array([2.0,2.0,2.0])\n",
    "z=x*y\n",
    "print(z)"
   ]
  },
  {
   "cell_type": "code",
   "execution_count": 43,
   "id": "f9cb2c19",
   "metadata": {},
   "outputs": [
    {
     "name": "stdout",
     "output_type": "stream",
     "text": [
      "[2. 4. 6.]\n"
     ]
    }
   ],
   "source": [
    "zc=y*x\n",
    "print(zc)"
   ]
  },
  {
   "cell_type": "code",
   "execution_count": 45,
   "id": "fe488491",
   "metadata": {},
   "outputs": [
    {
     "name": "stdout",
     "output_type": "stream",
     "text": [
      "[2. 4. 6.]\n"
     ]
    }
   ],
   "source": [
    "s=2.0\n",
    "zs=x*s\n",
    "print(zs)"
   ]
  },
  {
   "cell_type": "code",
   "execution_count": null,
   "id": "e07348c0",
   "metadata": {},
   "outputs": [],
   "source": []
  }
 ],
 "metadata": {
  "kernelspec": {
   "display_name": "Python 3 (ipykernel)",
   "language": "python",
   "name": "python3"
  },
  "language_info": {
   "codemirror_mode": {
    "name": "ipython",
    "version": 3
   },
   "file_extension": ".py",
   "mimetype": "text/x-python",
   "name": "python",
   "nbconvert_exporter": "python",
   "pygments_lexer": "ipython3",
   "version": "3.9.12"
  }
 },
 "nbformat": 4,
 "nbformat_minor": 5
}
